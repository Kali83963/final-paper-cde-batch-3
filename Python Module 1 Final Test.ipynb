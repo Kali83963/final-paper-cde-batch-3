{
 "cells": [
  {
   "cell_type": "markdown",
   "id": "6beaf043",
   "metadata": {},
   "source": [
    "## Task 1"
   ]
  },
  {
   "cell_type": "code",
   "execution_count": null,
   "id": "6ad023ba",
   "metadata": {},
   "outputs": [],
   "source": [
    "try:\n",
    "    with open('./student_records.txt') as f:\n",
    "        data = f.readlines()\n",
    "        grades = []\n",
    "        \n",
    "        for d in data:\n",
    "            name , grade = d.split(',')\n",
    "            try:\n",
    "                grade_t = int(grade.strip())\n",
    "            except Exception as e:\n",
    "                print(f\"Invalid Grade of {name}: {grade.strip()}\")\n",
    "            \n",
    "            grades.append(grade_t)\n",
    "        \n",
    "        average = sum(grades) / len(grades)\n",
    "        \n",
    "        print(f\"Average grade of the student is {average}\")\n",
    "        \n",
    "except FileNotFoundError as e:\n",
    "    print(e)"
   ]
  },
  {
   "cell_type": "markdown",
   "id": "1487cc4d",
   "metadata": {},
   "source": [
    "## Task 2"
   ]
  },
  {
   "cell_type": "code",
   "execution_count": 3,
   "id": "df09a8b5",
   "metadata": {},
   "outputs": [],
   "source": [
    "class Vechile:\n",
    "    \n",
    "    def __init__(self,make,model,year):\n",
    "        self.make = make\n",
    "        self.model = model\n",
    "        self.year = year\n",
    "    \n",
    "    \n",
    "    def display_make(self):\n",
    "        print(self.make)\n",
    "        \n",
    "    def display_model(self):\n",
    "        print(self.model)\n",
    "        \n",
    "    def display_year(self):\n",
    "        print(self.model)\n",
    "    def start(self):\n",
    "        print(\"Starting Vechile\")\n",
    "    \n",
    "    def stop(self):\n",
    "        print(\"stop Vechile\")"
   ]
  },
  {
   "cell_type": "code",
   "execution_count": null,
   "id": "1f4d3b81",
   "metadata": {},
   "outputs": [],
   "source": [
    "class Car(Vechile):\n",
    "    \n",
    "    def __init__(self,make,model,year,door):\n",
    "         super().__init__(make,model,year)\n",
    "         self.door = door\n",
    "        \n",
    "    def get_no_of_doors(self):\n",
    "        print(\"Number of doors of Car is\",self.door)"
   ]
  },
  {
   "cell_type": "code",
   "execution_count": null,
   "id": "cf33b707",
   "metadata": {},
   "outputs": [],
   "source": [
    "class Truck(Vechile):\n",
    "    def __init__(self,make,model,year,capacity):\n",
    "         super().__init__(make,model,year)\n",
    "         self.capacity = capacity\n",
    "        \n",
    "    def get_capacity(self):\n",
    "        print(\"Capacity of the Truck is\",self.capacity)"
   ]
  },
  {
   "cell_type": "code",
   "execution_count": 10,
   "id": "f06f1a3b",
   "metadata": {},
   "outputs": [],
   "source": [
    "class Motorcycle(Vechile):\n",
    "    def __init__(self,make,model,year,drive):\n",
    "         self.drive = drive\n",
    "         super().__init__(make,model,year)\n",
    "         \n",
    "        \n",
    "    def get_drive(self):\n",
    "        print(\"Drive of the motorcycle is\",self.drive)"
   ]
  },
  {
   "cell_type": "code",
   "execution_count": null,
   "id": "c867d58e",
   "metadata": {},
   "outputs": [],
   "source": [
    "car1 = Car(\"civic\",'altis',2002,4)"
   ]
  },
  {
   "cell_type": "code",
   "execution_count": null,
   "id": "d2b04aaf",
   "metadata": {},
   "outputs": [],
   "source": [
    "car1.get_no_of_doors()"
   ]
  },
  {
   "cell_type": "code",
   "execution_count": null,
   "id": "b99db000",
   "metadata": {},
   "outputs": [],
   "source": [
    "car1.start()"
   ]
  },
  {
   "cell_type": "code",
   "execution_count": null,
   "id": "0364646c",
   "metadata": {},
   "outputs": [],
   "source": [
    "truck1 = Truck(\"Mazda\",'123',2002,12)"
   ]
  },
  {
   "cell_type": "code",
   "execution_count": null,
   "id": "d12f1cae",
   "metadata": {},
   "outputs": [],
   "source": [
    "truck1.start()"
   ]
  },
  {
   "cell_type": "code",
   "execution_count": null,
   "id": "bb2494a0",
   "metadata": {},
   "outputs": [],
   "source": [
    "truck1.get_capacity()"
   ]
  },
  {
   "cell_type": "code",
   "execution_count": 11,
   "id": "c3d73fe0",
   "metadata": {},
   "outputs": [],
   "source": [
    "bike1 = Motorcycle(\"Yahma\",'123',2002,\"smooth\")"
   ]
  },
  {
   "cell_type": "code",
   "execution_count": 12,
   "id": "58111e95",
   "metadata": {},
   "outputs": [
    {
     "name": "stdout",
     "output_type": "stream",
     "text": [
      "Starting Vechile\n"
     ]
    }
   ],
   "source": [
    "bike1.start()"
   ]
  },
  {
   "cell_type": "code",
   "execution_count": 13,
   "id": "46979eef",
   "metadata": {},
   "outputs": [
    {
     "name": "stdout",
     "output_type": "stream",
     "text": [
      "Drive of the motorcycle is smooth\n"
     ]
    }
   ],
   "source": [
    "bike1.get_drive()"
   ]
  },
  {
   "cell_type": "markdown",
   "id": "d99acb52",
   "metadata": {},
   "source": [
    "## Task 4"
   ]
  },
  {
   "cell_type": "code",
   "execution_count": 19,
   "id": "3b80f4ed",
   "metadata": {},
   "outputs": [],
   "source": [
    "def perform_operations(numbers):\n",
    "     total = 0\n",
    "     product = 1\n",
    "     for num in numbers:\n",
    "         total += num\n",
    "         product *= num\n",
    "     average = total / len(numbers)\n",
    "     return total, product,  average"
   ]
  },
  {
   "cell_type": "code",
   "execution_count": 21,
   "id": "265c7d8c",
   "metadata": {},
   "outputs": [],
   "source": [
    "total, product,  average = (perform_operations([1,2,3,4,5]))"
   ]
  },
  {
   "cell_type": "code",
   "execution_count": 22,
   "id": "c2728c8c",
   "metadata": {},
   "outputs": [
    {
     "name": "stdout",
     "output_type": "stream",
     "text": [
      "Total: 15\n",
      "Product: 120\n",
      "Average: 3.0\n"
     ]
    }
   ],
   "source": [
    "print(\"Total:\",total)\n",
    "print(\"Product:\",product)\n",
    "print(\"Average:\",average)\n"
   ]
  },
  {
   "cell_type": "markdown",
   "id": "bf660d2f",
   "metadata": {},
   "source": [
    "## Task 3"
   ]
  },
  {
   "cell_type": "code",
   "execution_count": 28,
   "id": "a3279fa7",
   "metadata": {},
   "outputs": [
    {
     "name": "stdout",
     "output_type": "stream",
     "text": [
      "[+] Learning Python added → Total in stock: 3\n",
      "[+] Clean Code added → Total in stock: 2\n",
      "\n",
      "📚 Current Catalog:\n",
      "  • Code: BK001 | Title: Learning Python | Author: Mark Lutz | Stock: 3\n",
      "  • Code: BK002 | Title: Clean Code | Author: Robert C. Martin | Stock: 2\n",
      "[-] Removed 1 copy/copies of Learning Python\n",
      "✅ Alice borrowed BK001. Return by: 19-10-2025\n",
      "[-] Removed 1 copy/copies of Clean Code\n",
      "✅ Bob borrowed BK002. Return by: 19-10-2025\n",
      "\n",
      "📑 Issued Books:\n",
      "  → Code: BK001 | Borrower: Alice | Due: 19-10-2025\n",
      "  → Code: BK002 | Borrower: Bob | Due: 19-10-2025\n",
      "\n",
      "⚠ Overdue List: None\n"
     ]
    }
   ],
   "source": [
    "import math\n",
    "from datetime import datetime, timedelta\n",
    "\n",
    "class BookInventory:\n",
    "    def __init__(self):\n",
    "        self.catalog = {}\n",
    "    \n",
    "    def insert_item(self, code, title, writer, stock=1):\n",
    "        if code in self.catalog:\n",
    "            self.catalog[code]['stock'] += stock\n",
    "        else:\n",
    "            self.catalog[code] = {\n",
    "                'title': title,\n",
    "                'writer': writer,\n",
    "                'stock': stock\n",
    "            }\n",
    "        print(f\"[+] {title} added → Total in stock: {self.catalog[code]['stock']}\")\n",
    "    \n",
    "    def discard_item(self, code, qty=1):\n",
    "        if code in self.catalog:\n",
    "            if self.catalog[code]['stock'] >= qty:\n",
    "                self.catalog[code]['stock'] -= qty\n",
    "                title = self.catalog[code]['title']\n",
    "                print(f\"[-] Removed {qty} copy/copies of {title}\")\n",
    "                \n",
    "                if self.catalog[code]['stock'] == 0:\n",
    "                    del self.catalog[code]\n",
    "            else:\n",
    "                print(\"⚠ Not enough copies available.\")\n",
    "        else:\n",
    "            print(\"⚠ Item not found in catalog.\")\n",
    "    \n",
    "    def view_catalog(self):\n",
    "        print(\"\\n📚 Current Catalog:\")\n",
    "        if not self.catalog:\n",
    "            print(\"  (Empty)\")\n",
    "        for code, details in self.catalog.items():\n",
    "            print(f\"  • Code: {code} | Title: {details['title']} | Author: {details['writer']} | Stock: {details['stock']}\")\n",
    "\n",
    "class LibraryManagement:\n",
    "    def __init__(self):\n",
    "        self.inventory = BookInventory()\n",
    "        self.issued_books = {}\n",
    "        self.loan_days = 14\n",
    "        self.fine_rate = 0.50\n",
    "    \n",
    "    def issue_item(self, code, member):\n",
    "        if code in self.inventory.catalog and self.inventory.catalog[code]['stock'] > 0:\n",
    "            return_by = datetime.now() + timedelta(days=self.loan_days)\n",
    "            self.issued_books[code] = {\n",
    "                'member': member,\n",
    "                'issued_on': datetime.now(),\n",
    "                'return_by': return_by\n",
    "            }\n",
    "            self.inventory.discard_item(code)\n",
    "            print(f\"✅ {member} borrowed {code}. Return by: {return_by.strftime('%d-%m-%Y')}\")\n",
    "        else:\n",
    "            print(\"❌ Not available for issue.\")\n",
    "    \n",
    "    def receive_item(self, code):\n",
    "        if code in self.issued_books:\n",
    "            data = self.issued_books[code]\n",
    "            due = data['return_by']\n",
    "            today = datetime.now()\n",
    "            \n",
    "            if today > due:\n",
    "                late_days = (today - due).days\n",
    "                fine_amt = self.calc_penalty(late_days)\n",
    "                print(f\"⚠ Returned {late_days} days late. Fine: ${fine_amt:.2f}\")\n",
    "            else:\n",
    "                print(\"✅ Returned on time. No fine.\")\n",
    "            \n",
    "            title = self.inventory.catalog.get(code, {}).get('title', 'Untitled')\n",
    "            self.inventory.insert_item(code, title, 'Unknown Writer')\n",
    "            del self.issued_books[code]\n",
    "        else:\n",
    "            print(\"❌ This item was not borrowed.\")\n",
    "    \n",
    "    def calc_penalty(self, late_days):\n",
    "        return math.ceil(late_days) * self.fine_rate\n",
    "    \n",
    "    def is_in_stock(self, code):\n",
    "        return code in self.inventory.catalog and self.inventory.catalog[code]['stock'] > 0\n",
    "    \n",
    "    def list_overdue(self):\n",
    "        today = datetime.now()\n",
    "        return [code for code, rec in self.issued_books.items() if rec['return_by'] < today]\n",
    "    \n",
    "    def summary_issued(self):\n",
    "        return [\n",
    "            {\n",
    "                'code': code,\n",
    "                'member': data['member'],\n",
    "                'return_by': data['return_by'].strftime('%d-%m-%Y')\n",
    "            }\n",
    "            for code, data in self.issued_books.items()\n",
    "        ]\n",
    "\n",
    "lib = LibraryManagement()\n",
    "\n",
    "lib.inventory.insert_item(\"BK001\", \"Learning Python\", \"Mark Lutz\", 3)\n",
    "lib.inventory.insert_item(\"BK002\", \"Clean Code\", \"Robert C. Martin\", 2)\n",
    "\n",
    "lib.inventory.view_catalog()\n",
    "\n",
    "lib.issue_item(\"BK001\", \"Alice\")\n",
    "lib.issue_item(\"BK002\", \"Bob\")\n",
    "\n",
    "print(\"\\n📑 Issued Books:\")\n",
    "for b in lib.summary_issued():\n",
    "    print(f\"  → Code: {b['code']} | Borrower: {b['member']} | Due: {b['return_by']}\")\n",
    "\n",
    "overdue = lib.list_overdue()\n",
    "print(f\"\\n⚠ Overdue List: {overdue if overdue else 'None'}\")\n",
    "\n"
   ]
  },
  {
   "cell_type": "code",
   "execution_count": null,
   "id": "47c77e62",
   "metadata": {},
   "outputs": [],
   "source": []
  }
 ],
 "metadata": {
  "kernelspec": {
   "display_name": "Python 3 (ipykernel)",
   "language": "python",
   "name": "python3"
  },
  "language_info": {
   "codemirror_mode": {
    "name": "ipython",
    "version": 3
   },
   "file_extension": ".py",
   "mimetype": "text/x-python",
   "name": "python",
   "nbconvert_exporter": "python",
   "pygments_lexer": "ipython3",
   "version": "3.10.8"
  }
 },
 "nbformat": 4,
 "nbformat_minor": 5
}
