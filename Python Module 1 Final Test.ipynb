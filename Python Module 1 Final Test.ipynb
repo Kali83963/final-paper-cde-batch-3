{
 "cells": [
  {
   "cell_type": "markdown",
   "id": "62f96e85",
   "metadata": {},
   "source": [
    "## Task 1"
   ]
  },
  {
   "cell_type": "code",
   "execution_count": null,
   "id": "fe7c853d",
   "metadata": {},
   "outputs": [],
   "source": [
    "try:\n",
    "    with open('./student_records.txt') as f:\n",
    "        data = f.readlines()\n",
    "        grades = []\n",
    "        \n",
    "        for d in data:\n",
    "            name , grade = d.split(',')\n",
    "            try:\n",
    "                grade_t = int(grade.strip())\n",
    "            except Exception as e:\n",
    "                print(f\"Invalid Grade of {name}: {grade.strip()}\")\n",
    "            \n",
    "            grades.append(grade_t)\n",
    "        \n",
    "        average = sum(grades) / len(grades)\n",
    "        \n",
    "        print(f\"Average grade of the student is {average}\")\n",
    "        \n",
    "except FileNotFoundError as e:\n",
    "    print(e)"
   ]
  },
  {
   "cell_type": "markdown",
   "id": "bbe4abac",
   "metadata": {},
   "source": [
    "## Task 2"
   ]
  },
  {
   "cell_type": "code",
   "execution_count": 3,
   "id": "84b7a0a5",
   "metadata": {},
   "outputs": [],
   "source": [
    "class Vechile:\n",
    "    \n",
    "    def __init__(self,make,model,year):\n",
    "        self.make = make\n",
    "        self.model = model\n",
    "        self.year = year\n",
    "    \n",
    "    \n",
    "    def display_make(self):\n",
    "        print(self.make)\n",
    "        \n",
    "    def display_model(self):\n",
    "        print(self.model)\n",
    "        \n",
    "    def display_year(self):\n",
    "        print(self.model)\n",
    "    def start(self):\n",
    "        print(\"Starting Vechile\")\n",
    "    \n",
    "    def stop(self):\n",
    "        print(\"stop Vechile\")"
   ]
  },
  {
   "cell_type": "code",
   "execution_count": null,
   "id": "ffb35a02",
   "metadata": {},
   "outputs": [],
   "source": [
    "class Car(Vechile):\n",
    "    \n",
    "    def __init__(self,make,model,year,door):\n",
    "         super().__init__(make,model,year)\n",
    "         self.door = door\n",
    "        \n",
    "    def get_no_of_doors(self):\n",
    "        print(\"Number of doors of Car is\",self.door)"
   ]
  },
  {
   "cell_type": "code",
   "execution_count": null,
   "id": "c528076b",
   "metadata": {},
   "outputs": [],
   "source": [
    "class Truck(Vechile):\n",
    "    def __init__(self,make,model,year,capacity):\n",
    "         super().__init__(make,model,year)\n",
    "         self.capacity = capacity\n",
    "        \n",
    "    def get_capacity(self):\n",
    "        print(\"Capacity of the Truck is\",self.capacity)"
   ]
  },
  {
   "cell_type": "code",
   "execution_count": 10,
   "id": "fee6d93d",
   "metadata": {},
   "outputs": [],
   "source": [
    "class Motorcycle(Vechile):\n",
    "    def __init__(self,make,model,year,drive):\n",
    "         self.drive = drive\n",
    "         super().__init__(make,model,year)\n",
    "         \n",
    "        \n",
    "    def get_drive(self):\n",
    "        print(\"Drive of the motorcycle is\",self.drive)"
   ]
  },
  {
   "cell_type": "code",
   "execution_count": null,
   "id": "c2a46599",
   "metadata": {},
   "outputs": [],
   "source": [
    "car1 = Car(\"civic\",'altis',2002,4)"
   ]
  },
  {
   "cell_type": "code",
   "execution_count": null,
   "id": "ddbefc58",
   "metadata": {},
   "outputs": [],
   "source": [
    "car1.get_no_of_doors()"
   ]
  },
  {
   "cell_type": "code",
   "execution_count": null,
   "id": "c765a65d",
   "metadata": {},
   "outputs": [],
   "source": [
    "car1.start()"
   ]
  },
  {
   "cell_type": "code",
   "execution_count": null,
   "id": "4b6cc941",
   "metadata": {},
   "outputs": [],
   "source": [
    "truck1 = Truck(\"Mazda\",'123',2002,12)"
   ]
  },
  {
   "cell_type": "code",
   "execution_count": null,
   "id": "d12adc53",
   "metadata": {},
   "outputs": [],
   "source": [
    "truck1.start()"
   ]
  },
  {
   "cell_type": "code",
   "execution_count": null,
   "id": "971cf902",
   "metadata": {},
   "outputs": [],
   "source": [
    "truck1.get_capacity()"
   ]
  },
  {
   "cell_type": "code",
   "execution_count": 11,
   "id": "63cb4b88",
   "metadata": {},
   "outputs": [],
   "source": [
    "bike1 = Motorcycle(\"Yahma\",'123',2002,\"smooth\")"
   ]
  },
  {
   "cell_type": "code",
   "execution_count": 12,
   "id": "64273e68",
   "metadata": {},
   "outputs": [
    {
     "name": "stdout",
     "output_type": "stream",
     "text": [
      "Starting Vechile\n"
     ]
    }
   ],
   "source": [
    "bike1.start()"
   ]
  },
  {
   "cell_type": "code",
   "execution_count": 13,
   "id": "34a9cc0e",
   "metadata": {},
   "outputs": [
    {
     "name": "stdout",
     "output_type": "stream",
     "text": [
      "Drive of the motorcycle is smooth\n"
     ]
    }
   ],
   "source": [
    "bike1.get_drive()"
   ]
  },
  {
   "cell_type": "markdown",
   "id": "b003e9ed",
   "metadata": {},
   "source": [
    "## Task 4"
   ]
  },
  {
   "cell_type": "code",
   "execution_count": 19,
   "id": "07d0c48a",
   "metadata": {},
   "outputs": [],
   "source": [
    "def perform_operations(numbers):\n",
    "     total = 0\n",
    "     product = 1\n",
    "     for num in numbers:\n",
    "         total += num\n",
    "         product *= num\n",
    "     average = total / len(numbers)\n",
    "     return total, product,  average"
   ]
  },
  {
   "cell_type": "code",
   "execution_count": 21,
   "id": "2a2bd1f4",
   "metadata": {},
   "outputs": [],
   "source": [
    "total, product,  average = (perform_operations([1,2,3,4,5]))"
   ]
  },
  {
   "cell_type": "code",
   "execution_count": 22,
   "id": "efb3de49",
   "metadata": {},
   "outputs": [
    {
     "name": "stdout",
     "output_type": "stream",
     "text": [
      "Total: 15\n",
      "Product: 120\n",
      "Average: 3.0\n"
     ]
    }
   ],
   "source": [
    "print(\"Total:\",total)\n",
    "print(\"Product:\",product)\n",
    "print(\"Average:\",average)\n"
   ]
  },
  {
   "cell_type": "markdown",
   "id": "38e3a367",
   "metadata": {},
   "source": [
    "## Task 3"
   ]
  },
  {
   "cell_type": "code",
   "execution_count": 26,
   "id": "7f0d235f",
   "metadata": {},
   "outputs": [],
   "source": [
    "class BookInventory:\n",
    "    def __init__(self):\n",
    "        self.books = {}\n",
    "    \n",
    "    def add_book(self, book_id, title, author, quantity=1):\n",
    "        if book_id in self.books:\n",
    "            self.books[book_id]['quantity'] += quantity\n",
    "        else:\n",
    "            self.books[book_id] = {\n",
    "                'title': title,\n",
    "                'author': author,\n",
    "                'quantity': quantity\n",
    "            }\n",
    "        print(f\"Added '{title}' to inventory.\")\n",
    "    \n",
    "    def remove_book(self, book_id, quantity=1):\n",
    "        if book_id in self.books:\n",
    "            if self.books[book_id]['quantity'] >= quantity:\n",
    "                self.books[book_id]['quantity'] -= quantity\n",
    "                title = self.books[book_id]['title']\n",
    "                print(f\"Removed {quantity} copy/copies of '{title}'.\")\n",
    "                \n",
    "                if self.books[book_id]['quantity'] == 0:\n",
    "                    del self.books[book_id]\n",
    "            else:\n",
    "                print(\"Error: Not enough copies in inventory.\")\n",
    "        else:\n",
    "            print(\"Error: Book not found in inventory.\")\n",
    "    \n",
    "    def display_inventory(self):\n",
    "        print(\"\\nCurrent Inventory:\")\n",
    "        for book_id, book_info in self.books.items():\n",
    "            print(f\"ID: {book_id}, Title: {book_info['title']}, \"\n",
    "                  f\"Author: {book_info['author']}, Quantity: {book_info['quantity']}\")"
   ]
  },
  {
   "cell_type": "code",
   "execution_count": 25,
   "id": "30e6e240",
   "metadata": {},
   "outputs": [
    {
     "name": "stdout",
     "output_type": "stream",
     "text": [
      "Added 'Python Programming' to inventory.\n",
      "Added 'Data Structures' to inventory.\n",
      "\n",
      "Current Inventory:\n",
      "ID: B001, Title: Python Programming, Author: John Doe, Quantity: 3\n",
      "ID: B002, Title: Data Structures, Author: Jane Smith, Quantity: 2\n",
      "Removed 1 copy/copies of 'Python Programming'.\n",
      "Book borrowed by Alice. Due date: 2025-10-19\n",
      "Removed 1 copy/copies of 'Data Structures'.\n",
      "Book borrowed by Bob. Due date: 2025-10-19\n",
      "\n",
      "Borrowed Books Report:\n",
      "Book ID: B001, Borrower: Alice, Due: 2025-10-19\n",
      "Book ID: B002, Borrower: Bob, Due: 2025-10-19\n",
      "\n",
      "Overdue books: []\n"
     ]
    }
   ],
   "source": [
    "import math\n",
    "from datetime import datetime, timedelta\n",
    "\n",
    "class LibraryManagement:\n",
    "    def __init__(self):\n",
    "        self.inventory = BookInventory()\n",
    "        self.borrowed_books = {}\n",
    "        self.loan_period = 14 \n",
    "        self.daily_fine = 0.50  \n",
    "    \n",
    "    def borrow_book(self, book_id, borrower_name):\n",
    "        if book_id in self.inventory.books and self.inventory.books[book_id]['quantity'] > 0:\n",
    "            due_date = datetime.now() + timedelta(days=self.loan_period)\n",
    "            self.borrowed_books[book_id] = {\n",
    "                'borrower': borrower_name,\n",
    "                'due_date': due_date,\n",
    "                'borrow_date': datetime.now()\n",
    "            }\n",
    "            self.inventory.remove_book(book_id)\n",
    "            print(f\"Book borrowed by {borrower_name}. Due date: {due_date.strftime('%Y-%m-%d')}\")\n",
    "        else:\n",
    "            print(\"Error: Book not available for borrowing.\")\n",
    "    \n",
    "    def return_book(self, book_id):\n",
    "        if book_id in self.borrowed_books:\n",
    "            borrow_info = self.borrowed_books[book_id]\n",
    "            due_date = borrow_info['due_date']\n",
    "            return_date = datetime.now()\n",
    "            \n",
    "            if return_date > due_date:\n",
    "                days_overdue = (return_date - due_date).days\n",
    "                fine = self.calculate_fine(days_overdue)\n",
    "                print(f\"Book returned {days_overdue} days late. Fine: ${fine:.2f}\")\n",
    "            else:\n",
    "                print(\"Book returned on time. No fine.\")\n",
    "            \n",
    "            book_title = self.inventory.books.get(book_id, {}).get('title', 'Unknown Title')\n",
    "            self.inventory.add_book(book_id, book_title, 'Unknown Author')\n",
    "            del self.borrowed_books[book_id]\n",
    "        else:\n",
    "            print(\"Error: This book is not currently borrowed.\")\n",
    "    \n",
    "    def calculate_fine(self, days_overdue):\n",
    "        return math.ceil(days_overdue) * self.daily_fine\n",
    "    \n",
    "    def check_availability(self, book_id):\n",
    "        if book_id in self.inventory.books and self.inventory.books[book_id]['quantity'] > 0:\n",
    "            return True\n",
    "        return False\n",
    "    \n",
    "    def get_overdue_books(self):\n",
    "        current_date = datetime.now()\n",
    "        overdue_filter = lambda book_id: self.borrowed_books[book_id]['due_date'] < current_date\n",
    "        overdue_books = list(filter(overdue_filter, self.borrowed_books.keys()))\n",
    "        return overdue_books\n",
    "    \n",
    "    def generate_borrowed_report(self):\n",
    "        borrowed_list = [\n",
    "            {\n",
    "                'book_id': book_id,\n",
    "                'borrower': info['borrower'],\n",
    "                'due_date': info['due_date'].strftime('%Y-%m-%d')\n",
    "            }\n",
    "            for book_id, info in self.borrowed_books.items()\n",
    "        ]\n",
    "        return borrowed_list\n",
    "\n",
    "def demonstrate_library():\n",
    "    library = LibraryManagement()\n",
    "    \n",
    "    library.inventory.add_book(\"B001\", \"Python Programming\", \"John Doe\", 3)\n",
    "    library.inventory.add_book(\"B002\", \"Data Structures\", \"Jane Smith\", 2)\n",
    "    \n",
    "    library.inventory.display_inventory()\n",
    "    \n",
    "    library.borrow_book(\"B001\", \"Alice\")\n",
    "    library.borrow_book(\"B002\", \"Bob\")\n",
    "    \n",
    "    borrowed_report = library.generate_borrowed_report()\n",
    "    print(\"\\nBorrowed Books Report:\")\n",
    "    for book in borrowed_report:\n",
    "        print(f\"Book ID: {book['book_id']}, Borrower: {book['borrower']}, Due: {book['due_date']}\")\n",
    "    \n",
    "    overdue = library.get_overdue_books()\n",
    "    print(f\"\\nOverdue books: {overdue}\")\n",
    "\n",
    "demonstrate_library()"
   ]
  },
  {
   "cell_type": "code",
   "execution_count": null,
   "id": "2292c868",
   "metadata": {},
   "outputs": [],
   "source": []
  }
 ],
 "metadata": {
  "kernelspec": {
   "display_name": "Python 3 (ipykernel)",
   "language": "python",
   "name": "python3"
  },
  "language_info": {
   "codemirror_mode": {
    "name": "ipython",
    "version": 3
   },
   "file_extension": ".py",
   "mimetype": "text/x-python",
   "name": "python",
   "nbconvert_exporter": "python",
   "pygments_lexer": "ipython3",
   "version": "3.10.8"
  }
 },
 "nbformat": 4,
 "nbformat_minor": 5
}
